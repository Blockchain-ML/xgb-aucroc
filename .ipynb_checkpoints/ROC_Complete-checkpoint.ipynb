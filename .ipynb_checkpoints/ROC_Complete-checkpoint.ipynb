{
 "cells": [
  {
   "cell_type": "code",
   "execution_count": 1,
   "id": "e8c7c1b5-246c-4288-ac4f-ffef34d6dcc8",
   "metadata": {},
   "outputs": [],
   "source": [
    "xs = ['l1_X_14.pickle','l2_X_14.pickle','l3_X_14.pickle','l5_X_10.pickle','l7_X_9.pickle','l11_X_20.pickle','l13_X_10.pickle','l15_X_15.pickle','l17_X_25.pickle','l18_X_14.pickle']"
   ]
  },
  {
   "cell_type": "code",
   "execution_count": 2,
   "id": "ee45f1e2-8473-48ef-bc14-971e01c25a5c",
   "metadata": {},
   "outputs": [],
   "source": [
    "ys = ['l1_Y_14.pickle','l2_Y_14.pickle','l3_Y_14.pickle','l5_Y_10.pickle','l7_Y_9.pickle','l11_Y_20.pickle','l13_Y_10.pickle','l15_Y_15.pickle','l17_Y_25.pickle','l18_Y_14.pickle']"
   ]
  },
  {
   "cell_type": "code",
   "execution_count": 3,
   "id": "3bd58ae8-1a48-4e39-8269-04fb329e6492",
   "metadata": {},
   "outputs": [],
   "source": [
    "ms = ['l1_model_14.pickle','l2_model_14.pickle','l3_model_14.pickle','l5_model_10.pickle','l7_model_9.pickle','l11_model_20.pickle','l13_model_10.pickle','l15_model_15.pickle','l17_model_25.pickle','l18_model_14.pickle']"
   ]
  },
  {
   "cell_type": "code",
   "execution_count": 49,
   "id": "73e89a67-e6ad-4b72-be38-9fba0badfede",
   "metadata": {},
   "outputs": [
    {
     "data": {
      "text/plain": [
       "<Figure size 80x60 with 0 Axes>"
      ]
     },
     "metadata": {},
     "output_type": "display_data"
    }
   ],
   "source": [
    "import pickle\n",
    "import xgboost as xgb\n",
    "import matplotlib.pyplot as plt\n",
    "from sklearn import metrics\n",
    "# myFig = plt.figure()\n",
    "\n",
    "plt.figure(figsize=(8, 6), dpi=10)\n",
    "\n",
    "plots = 0"
   ]
  },
  {
   "cell_type": "code",
   "execution_count": 56,
   "id": "d0495033-221c-42fe-96a9-f71d43588489",
   "metadata": {},
   "outputs": [
    {
     "name": "stdout",
     "output_type": "stream",
     "text": [
      "0.9850432957229074\n",
      "0.970567648911598\n"
     ]
    },
    {
     "data": {
      "image/png": "[encoded data removed]",
      "text/plain": [
       "<Figure size 432x288 with 1 Axes>"
      ]
     },
     "metadata": {
      "needs_background": "light"
     },
     "output_type": "display_data"
    }
   ],
   "source": [
    "for i in range(10):\n",
    "    # Import Model\n",
    "    with open(f'models/{ms[i]}', \"rb\") as input_file:\n",
    "        model = pickle.load(input_file)\n",
    "\n",
    "    # Import X\n",
    "    with open(f'datasets/{xs[i]}', \"rb\") as input_file:\n",
    "        X = pickle.load(input_file)\n",
    "\n",
    "    # Import Y\n",
    "    with open(f'datasets/{ys[i]}', \"rb\") as input_file:\n",
    "        Y = pickle.load(input_file)\n",
    "\n",
    "    # Save Model as Temp JSON\n",
    "    model.save_model(\"model.json\")\n",
    "    model = xgb.Booster()\n",
    "    model.load_model(\"model.json\")\n",
    "    dtest = xgb.DMatrix(X)\n",
    "    Y_pred = model.predict(dtest)\n",
    "    Y_pred  = Y_pred > 0.5  \n",
    "    Y_pred = Y_pred.astype(int)\n",
    "\n",
    "    fpr, tpr, thresh = metrics.roc_curve(Y, Y_pred)\n",
    "    auc = metrics.roc_auc_score(Y, Y_pred)\n",
    "    print(auc)\n",
    "    plt.plot(fpr,tpr,label=f\"L{i+1} (AUCROC = {str(auc*100)[:4]})\")\n",
    "\n",
    "# Naming the x-axis, y-axis and the whole graph\n",
    "plt.xlabel(\"False Positive Rate (FPR)\")\n",
    "plt.ylabel(\"True Positive Rate (TPR)\")\n",
    "# plt.title(\"Sine and Cosine functions\")\n",
    "\n",
    "# Adding legend, which helps us recognize the curve according to it's color\n",
    "plt.legend()\n",
    "plt.savefig('plot.pdf')\n",
    "# To load the display window\n",
    "plt.show()\n"
   ]
  },
  {
   "cell_type": "code",
   "execution_count": 52,
   "id": "64bee534-2250-4fa5-a286-939bdc31d585",
   "metadata": {},
   "outputs": [
    {
     "data": {
      "text/plain": [
       "<Figure size 432x288 with 0 Axes>"
      ]
     },
     "metadata": {},
     "output_type": "display_data"
    }
   ],
   "source": []
  },
  {
   "cell_type": "code",
   "execution_count": 7,
   "id": "2ed7968b-cd91-4b2c-8134-c8c10cd353c5",
   "metadata": {},
   "outputs": [],
   "source": [
    "plt.show()"
   ]
  },
  {
   "cell_type": "code",
   "execution_count": null,
   "id": "8834cd5c-7222-45e4-a970-f49b916bb154",
   "metadata": {},
   "outputs": [],
   "source": []
  }
 ],
 "metadata": {
  "kernelspec": {
   "display_name": "Python 3 (ipykernel)",
   "language": "python",
   "name": "python3"
  },
  "language_info": {
   "codemirror_mode": {
    "name": "ipython",
    "version": 3
   },
   "file_extension": ".py",
   "mimetype": "text/x-python",
   "name": "python",
   "nbconvert_exporter": "python",
   "pygments_lexer": "ipython3",
   "version": "3.7.2"
  }
 },
 "nbformat": 4,
 "nbformat_minor": 5
}
