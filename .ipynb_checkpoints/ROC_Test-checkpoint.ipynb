{
 "cells": [
  {
   "cell_type": "markdown",
   "id": "935fb1a6-ab3c-435d-9d17-c17427a144cc",
   "metadata": {},
   "source": [
    "## Load Models"
   ]
  },
  {
   "cell_type": "code",
   "execution_count": 1,
   "id": "aed9a772-f49c-4e43-bfd0-71ac3f651521",
   "metadata": {},
   "outputs": [],
   "source": [
    "import pickle\n",
    "\n",
    "# Import Model\n",
    "with open(r\"models/l1_model_14.pickle\", \"rb\") as input_file:\n",
    "    model = pickle.load(input_file)"
   ]
  },
  {
   "cell_type": "code",
   "execution_count": 2,
   "id": "9bd57913-67a2-4b83-babb-35fdbca938db",
   "metadata": {},
   "outputs": [],
   "source": [
    "# Import X\n",
    "with open(r\"datasets/l1_X_14.pickle\", \"rb\") as input_file:\n",
    "    X = pickle.load(input_file)"
   ]
  },
  {
   "cell_type": "code",
   "execution_count": 3,
   "id": "9baf9864-0d3c-4c47-99c6-8457aed72a32",
   "metadata": {},
   "outputs": [],
   "source": [
    "# Import Y\n",
    "with open(r\"datasets/l1_Y_14.pickle\", \"rb\") as input_file:\n",
    "    Y = pickle.load(input_file)"
   ]
  },
  {
   "cell_type": "code",
   "execution_count": 4,
   "id": "53dce607-5ed6-4325-88ce-9908271dd1f6",
   "metadata": {},
   "outputs": [],
   "source": [
    "# Save Model as Temp JSON\n",
    "model.save_model(\"model.json\")"
   ]
  },
  {
   "cell_type": "code",
   "execution_count": 5,
   "id": "e49a918a-6405-46db-a9ea-b3cc0579ea62",
   "metadata": {},
   "outputs": [
    {
     "data": {
      "text/plain": [
       "<xgboost.core.Booster at 0x7f15c7a30588>"
      ]
     },
     "execution_count": 5,
     "metadata": {},
     "output_type": "execute_result"
    }
   ],
   "source": [
    "import xgboost as xgb\n",
    "model = xgb.Booster()\n",
    "model.load_model(\"model.json\")\n",
    "model"
   ]
  },
  {
   "cell_type": "code",
   "execution_count": 6,
   "id": "63ea336b-d244-43f5-b109-200de777f255",
   "metadata": {},
   "outputs": [
    {
     "name": "stdout",
     "output_type": "stream",
     "text": [
      "<xgboost.core.DMatrix object at 0x7f15c7a30e10>\n"
     ]
    }
   ],
   "source": [
    "dtest = xgb.DMatrix(X)\n",
    "print(dtest)\n",
    "Y_pred = model.predict(dtest)"
   ]
  },
  {
   "cell_type": "code",
   "execution_count": 7,
   "id": "2ea7e848-586c-41b4-a761-6b2f4f6cdeed",
   "metadata": {},
   "outputs": [
    {
     "data": {
      "text/plain": [
       "array([2.5384157e-04, 4.6898323e-04, 9.3371098e-05, ..., 9.7659159e-01,\n",
       "       9.9958044e-01, 9.9288529e-01], dtype=float32)"
      ]
     },
     "execution_count": 7,
     "metadata": {},
     "output_type": "execute_result"
    }
   ],
   "source": [
    "Y_pred"
   ]
  },
  {
   "cell_type": "code",
   "execution_count": 8,
   "id": "ae6569a2-4dd6-4c46-9e20-65e61bccff5f",
   "metadata": {},
   "outputs": [
    {
     "data": {
      "text/plain": [
       "0        0\n",
       "1        0\n",
       "2        0\n",
       "3        0\n",
       "4        0\n",
       "        ..\n",
       "38105    1\n",
       "38106    1\n",
       "38107    1\n",
       "38108    1\n",
       "38109    1\n",
       "Name: l1, Length: 38110, dtype: int64"
      ]
     },
     "execution_count": 8,
     "metadata": {},
     "output_type": "execute_result"
    }
   ],
   "source": [
    "Y"
   ]
  },
  {
   "cell_type": "code",
   "execution_count": 9,
   "id": "f50b0c1d-86d7-4b7d-9e60-50ba38d41bfd",
   "metadata": {},
   "outputs": [
    {
     "data": {
      "text/plain": [
       "0        0\n",
       "1        0\n",
       "2        0\n",
       "3        0\n",
       "4        0\n",
       "        ..\n",
       "38105    1\n",
       "38106    1\n",
       "38107    1\n",
       "38108    1\n",
       "38109    1\n",
       "Name: l1, Length: 38110, dtype: int64"
      ]
     },
     "execution_count": 9,
     "metadata": {},
     "output_type": "execute_result"
    }
   ],
   "source": [
    "Y_pred  = Y_pred > 0.5  \n",
    "Y_pred = Y_pred.astype(int)\n",
    "Y"
   ]
  },
  {
   "cell_type": "markdown",
   "id": "946771f0-a70f-4af3-8227-1f430ee56ad9",
   "metadata": {},
   "source": [
    "## Plotting"
   ]
  },
  {
   "cell_type": "code",
   "execution_count": 10,
   "id": "9b6cd137-3cae-4587-a286-9bfe6859569a",
   "metadata": {},
   "outputs": [
    {
     "data": {
      "text/plain": [
       "<Figure size 432x288 with 0 Axes>"
      ]
     },
     "metadata": {},
     "output_type": "display_data"
    }
   ],
   "source": [
    "# Lib Imports\n",
    "import matplotlib.pyplot as plt\n",
    "from sklearn import metrics\n",
    "plt.figure(0).clf()"
   ]
  },
  {
   "cell_type": "code",
   "execution_count": 11,
   "id": "9a259cd0-0ee4-41ba-8cd2-1681094194f1",
   "metadata": {},
   "outputs": [
    {
     "name": "stdout",
     "output_type": "stream",
     "text": [
      "0.9850432957229074\n"
     ]
    },
    {
     "data": {
      "text/plain": [
       "[<matplotlib.lines.Line2D at 0x7f14dfab5470>]"
      ]
     },
     "execution_count": 11,
     "metadata": {},
     "output_type": "execute_result"
    },
    {
     "data": {
      "image/png": "[encoded data removed]",
      "text/plain": [
       "<Figure size 432x288 with 1 Axes>"
      ]
     },
     "metadata": {
      "needs_background": "light"
     },
     "output_type": "display_data"
    }
   ],
   "source": [
    "fpr, tpr, thresh = metrics.roc_curve(Y, Y_pred)\n",
    "auc = metrics.roc_auc_score(Y, Y_pred)\n",
    "print(auc)\n",
    "plt.plot(fpr,tpr,label=\"data 1, auc=\"+str(auc))"
   ]
  },
  {
   "cell_type": "code",
   "execution_count": null,
   "id": "ea0bea4d-1add-4750-b826-3809e14f1524",
   "metadata": {},
   "outputs": [],
   "source": []
  }
 ],
 "metadata": {
  "kernelspec": {
   "display_name": "Python 3 (ipykernel)",
   "language": "python",
   "name": "python3"
  },
  "language_info": {
   "codemirror_mode": {
    "name": "ipython",
    "version": 3
   },
   "file_extension": ".py",
   "mimetype": "text/x-python",
   "name": "python",
   "nbconvert_exporter": "python",
   "pygments_lexer": "ipython3",
   "version": "3.7.2"
  }
 },
 "nbformat": 4,
 "nbformat_minor": 5
}
